{
 "cells": [
  {
   "cell_type": "code",
   "execution_count": 1,
   "metadata": {},
   "outputs": [],
   "source": [
    "import os\n",
    "from openai import OpenAI\n",
    "import pandas as pd\n",
    "import json\n",
    "\n",
    "#from dotenv import load_dotenv  \n",
    "\n",
    "# Load environment variables from .env file\n",
    "#load_dotenv()\n",
    "\n",
    "OPENAI_API_KEY = os.environ.get('OPENAI_API_KEY')\n",
    "\n",
    "# Initialiser le client OpenAI avec la clé \n",
    "\n",
    "client = OpenAI(api_key = OPENAI_API_KEY)\n",
    "\n",
    "\n",
    "def gen_val_qa_pairs(topic, num_pairs):\n",
    "    qa_pairs = []\n",
    "\n",
    "    for _ in range(num_pairs):\n",
    "        # Générer une question\n",
    "        prompt_question = f\"Generate a complex question about {topic}.\"\n",
    "        response_question = client.chat.completions.create(\n",
    "            model=\"gpt-3.5-turbo\",\n",
    "            messages=[{\"role\": \"user\", \"content\": prompt_question}]\n",
    "        )\n",
    "        question = response_question.choices[0].message.content.strip()\n",
    "\n",
    "        # Générer une réponse à la question\n",
    "        prompt_answer = f\"Answer the following question in detail: {question}\"\n",
    "        response_answer = client.chat.completions.create(\n",
    "            model=\"gpt-3.5-turbo\",\n",
    "            messages=[{\"role\": \"user\", \"content\": prompt_answer}]\n",
    "        )\n",
    "        answer = response_answer.choices[0].message.content.strip()\n",
    "\n",
    "        qa_pairs.append({\"question\": question, \"answer\": answer})\n",
    "\n",
    "    return qa_pairs\n",
    "\n",
    "# Génération des paires question-réponse\n",
    "topic = \"machine learning\"\n",
    "qa_pairs = gen_val_qa_pairs(topic, 5)  # Générer 5 paires pour l'exemple\n",
    "\n",
    "# Conversion en DataFrame pandas\n",
    "qa_df = pd.DataFrame(qa_pairs)\n"
   ]
  },
  {
   "cell_type": "code",
   "execution_count": 2,
   "metadata": {},
   "outputs": [
    {
     "name": "stdout",
     "output_type": "stream",
     "text": [
      "                                            question  \\\n",
      "0  How would you compare and contrast the trade-o...   \n",
      "1  How can the integration of explainability tech...   \n",
      "2  Can machine learning models accurately predict...   \n",
      "3  How can machine learning algorithms effectivel...   \n",
      "4  How can unsupervised machine learning algorith...   \n",
      "\n",
      "                                              answer  \n",
      "0  When utilizing deep neural networks in machine...  \n",
      "1  Deep learning models are known for their high ...  \n",
      "2  Machine learning (ML) models have shown promis...  \n",
      "3  Machine learning algorithms can effectively ad...  \n",
      "4  Unsupervised machine learning algorithms can b...  \n"
     ]
    }
   ],
   "source": [
    "# Affichage du DataFrame\n",
    "print(qa_df)"
   ]
  }
 ],
 "metadata": {
  "kernelspec": {
   "display_name": "base",
   "language": "python",
   "name": "python3"
  },
  "language_info": {
   "codemirror_mode": {
    "name": "ipython",
    "version": 3
   },
   "file_extension": ".py",
   "mimetype": "text/x-python",
   "name": "python",
   "nbconvert_exporter": "python",
   "pygments_lexer": "ipython3",
   "version": "3.9.12"
  }
 },
 "nbformat": 4,
 "nbformat_minor": 2
}
